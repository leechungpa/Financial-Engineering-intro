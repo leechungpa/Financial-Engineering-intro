{
  "nbformat": 4,
  "nbformat_minor": 0,
  "metadata": {
    "colab": {
      "name": "금융공학 final report - 이청파",
      "provenance": [],
      "collapsed_sections": [],
      "toc_visible": true,
      "include_colab_link": true
    },
    "kernelspec": {
      "display_name": "Python 3",
      "language": "python",
      "name": "python3"
    },
    "language_info": {
      "codemirror_mode": {
        "name": "ipython",
        "version": 3
      },
      "file_extension": ".py",
      "mimetype": "text/x-python",
      "name": "python",
      "nbconvert_exporter": "python",
      "pygments_lexer": "ipython3",
      "version": "3.7.7"
    }
  },
  "cells": [
    {
      "cell_type": "markdown",
      "metadata": {
        "id": "view-in-github",
        "colab_type": "text"
      },
      "source": [
        "<a href=\"https://colab.research.google.com/github/leechungpa/FinancialEngineering-intro/blob/master/final_report.ipynb\" target=\"_parent\"><img src=\"https://colab.research.google.com/assets/colab-badge.svg\" alt=\"Open In Colab\"/></a>"
      ]
    },
    {
      "cell_type": "markdown",
      "metadata": {
        "colab_type": "text",
        "id": "7m2rApV4XBIo"
      },
      "source": [
        "# Neural Network 모형을 활용하여, Put-Call Parity 에 따른 이자율 예측\n",
        "\n",
        "![](https://raw.githubusercontent.com/leechungpa/FinancialEngineering-intro/master/docs/Put-call%20Parity.png)\n",
        "\n",
        "Put-call parity 공식에 따르면 $c-p=S_{0}-K/r$ 이 성립한다. 즉 현재시점에서 $c$와 $p$와 $S_{0}$와 $K$를 알 수 있기에 차익거래가 존재하지 않는다면 사람들이 생각하는 이자율을 예측할 수 있다. 그래서 우리는 이 공식을 이용해 데이터를 만들어 보고, 해당데이터를 이용해 이자율을 예측하는 모형을 만들어 보고자 한다.\n",
        "\n",
        "데이터를 만들 때 2가지의 방식으로 만들고자 한다. 먼저 정확한 공식에 따라 데이터를 만든 경우이다. 그리고 두번째는 임의의 오차를 준 경우이다. 우리는 공식에 따라 $S_{0}$를 계산해 데이터를 만들 것인데, 오차를 임의의 0.9~1.1 값을 배하여 구하였다.\n",
        "\n",
        "또한 사람들이 생각하는 이자율은 다 다를 수 있으나, 특정한 값 근처에 몰릴 것이라고 판단해, 특정값(현 기준금리인 0.75)에 근접한 분포를 이용해 put-call parity 공식을 활용해 test data set을 만들고, 만든 모형이 0.75에 근접한 값을 보이는지 확인해 보고자 한다."
      ]
    },
    {
      "cell_type": "code",
      "metadata": {
        "colab_type": "code",
        "id": "jCIlfw6fkx45",
        "colab": {}
      },
      "source": [
        "from random import *\n",
        "import numpy as np\n",
        "import pandas as pd\n",
        "import tensorflow as tf\n",
        "import matplotlib.pyplot as plt"
      ],
      "execution_count": 0,
      "outputs": []
    },
    {
      "cell_type": "markdown",
      "metadata": {
        "colab_type": "text",
        "id": "k1h37BVHXCRB"
      },
      "source": [
        "## 데이터 생성"
      ]
    },
    {
      "cell_type": "code",
      "metadata": {
        "colab_type": "code",
        "id": "l52piAwBW_nf",
        "colab": {}
      },
      "source": [
        "# put-call parity 공식\n",
        "def put_call_parity(c,p,K,r):\n",
        "  value = c - p + K/r\n",
        "  return value\n",
        "\n",
        "# put-call parity 공식 및 오차 반영\n",
        "def put_call_parity_with_error(c,p,K,r,error = 0):\n",
        "  value = put_call_parity(c,p,K,r)*uniform(1-error, 1+error)\n",
        "  return value"
      ],
      "execution_count": 0,
      "outputs": []
    },
    {
      "cell_type": "code",
      "metadata": {
        "id": "c0VH5J1AwcB6",
        "colab_type": "code",
        "colab": {}
      },
      "source": [
        "# Data Frame 생성\n",
        "def make_df(n=1000, error=0) :\n",
        "  # n : 만들 데이터 수 \n",
        "  temp_df = pd.DataFrame(columns=['c', 'p', 's', 'K', 'r'])\n",
        "  i=0\n",
        "  while i != n :\n",
        "    c = randint(20,200)\n",
        "    p = randint(20,200)\n",
        "    K = randint(20,200)\n",
        "    r = random()+0.5\n",
        "    if c > p :\n",
        "      temp_df.loc[i]=[c, p, put_call_parity_with_error(c,p,K,r,error=error), K, r]\n",
        "      i=i+1\n",
        "  return temp_df"
      ],
      "execution_count": 0,
      "outputs": []
    },
    {
      "cell_type": "code",
      "metadata": {
        "id": "S_4iHZubxb21",
        "colab_type": "code",
        "outputId": "9670a47d-990b-4115-d52a-45a896625adc",
        "colab": {
          "base_uri": "https://localhost:8080/",
          "height": 195
        }
      },
      "source": [
        "pcp_df = make_df(error=0.1)\n",
        "pcp_df.tail()"
      ],
      "execution_count": 0,
      "outputs": [
        {
          "output_type": "execute_result",
          "data": {
            "text/html": [
              "<div>\n",
              "<style scoped>\n",
              "    .dataframe tbody tr th:only-of-type {\n",
              "        vertical-align: middle;\n",
              "    }\n",
              "\n",
              "    .dataframe tbody tr th {\n",
              "        vertical-align: top;\n",
              "    }\n",
              "\n",
              "    .dataframe thead th {\n",
              "        text-align: right;\n",
              "    }\n",
              "</style>\n",
              "<table border=\"1\" class=\"dataframe\">\n",
              "  <thead>\n",
              "    <tr style=\"text-align: right;\">\n",
              "      <th></th>\n",
              "      <th>c</th>\n",
              "      <th>p</th>\n",
              "      <th>s</th>\n",
              "      <th>K</th>\n",
              "      <th>r</th>\n",
              "    </tr>\n",
              "  </thead>\n",
              "  <tbody>\n",
              "    <tr>\n",
              "      <th>995</th>\n",
              "      <td>144.0</td>\n",
              "      <td>91.0</td>\n",
              "      <td>152.897963</td>\n",
              "      <td>94.0</td>\n",
              "      <td>1.012309</td>\n",
              "    </tr>\n",
              "    <tr>\n",
              "      <th>996</th>\n",
              "      <td>199.0</td>\n",
              "      <td>151.0</td>\n",
              "      <td>210.517897</td>\n",
              "      <td>197.0</td>\n",
              "      <td>1.317618</td>\n",
              "    </tr>\n",
              "    <tr>\n",
              "      <th>997</th>\n",
              "      <td>87.0</td>\n",
              "      <td>71.0</td>\n",
              "      <td>35.274855</td>\n",
              "      <td>25.0</td>\n",
              "      <td>1.291588</td>\n",
              "    </tr>\n",
              "    <tr>\n",
              "      <th>998</th>\n",
              "      <td>157.0</td>\n",
              "      <td>23.0</td>\n",
              "      <td>403.338697</td>\n",
              "      <td>159.0</td>\n",
              "      <td>0.587729</td>\n",
              "    </tr>\n",
              "    <tr>\n",
              "      <th>999</th>\n",
              "      <td>177.0</td>\n",
              "      <td>148.0</td>\n",
              "      <td>114.461927</td>\n",
              "      <td>62.0</td>\n",
              "      <td>0.709756</td>\n",
              "    </tr>\n",
              "  </tbody>\n",
              "</table>\n",
              "</div>"
            ],
            "text/plain": [
              "         c      p           s      K         r\n",
              "995  144.0   91.0  152.897963   94.0  1.012309\n",
              "996  199.0  151.0  210.517897  197.0  1.317618\n",
              "997   87.0   71.0   35.274855   25.0  1.291588\n",
              "998  157.0   23.0  403.338697  159.0  0.587729\n",
              "999  177.0  148.0  114.461927   62.0  0.709756"
            ]
          },
          "metadata": {
            "tags": []
          },
          "execution_count": 20
        }
      ]
    },
    {
      "cell_type": "code",
      "metadata": {
        "id": "43kFGgxKp_cM",
        "colab_type": "code",
        "colab": {}
      },
      "source": [
        "pcp_X = np.array(pcp_df.loc[:,['c','p','s','K']])\n",
        "pcp_Y = np.array(pcp_df.loc[:,'r'])"
      ],
      "execution_count": 0,
      "outputs": []
    },
    {
      "cell_type": "markdown",
      "metadata": {
        "colab_type": "text",
        "id": "dMlQCsf7XCNp"
      },
      "source": [
        "## 모델 생성"
      ]
    },
    {
      "cell_type": "code",
      "metadata": {
        "colab_type": "code",
        "id": "kTZBkJnNW_lo",
        "outputId": "6b8db760-591a-431b-ec5e-1e97d8b10362",
        "colab": {
          "base_uri": "https://localhost:8080/",
          "height": 228
        }
      },
      "source": [
        "my_model = tf.keras.Sequential([\n",
        "    tf.keras.layers.Dense(3, input_shape=[4],activation='relu'),\n",
        "    tf.keras.layers.Dense(1)  #Dense 레이어의 경우 2번째 레이어 부터는 input_shape 필요 없음\n",
        "]) \n",
        "my_model.summary()"
      ],
      "execution_count": 0,
      "outputs": [
        {
          "output_type": "stream",
          "text": [
            "Model: \"sequential_2\"\n",
            "_________________________________________________________________\n",
            "Layer (type)                 Output Shape              Param #   \n",
            "=================================================================\n",
            "dense_4 (Dense)              (None, 3)                 15        \n",
            "_________________________________________________________________\n",
            "dense_5 (Dense)              (None, 1)                 4         \n",
            "=================================================================\n",
            "Total params: 19\n",
            "Trainable params: 19\n",
            "Non-trainable params: 0\n",
            "_________________________________________________________________\n"
          ],
          "name": "stdout"
        }
      ]
    },
    {
      "cell_type": "code",
      "metadata": {
        "id": "u1t32bYiSDz5",
        "colab_type": "code",
        "outputId": "3220e1b4-e779-4fb8-fd16-90c412560b3f",
        "colab": {
          "base_uri": "https://localhost:8080/",
          "height": 312
        }
      },
      "source": [
        "tf.keras.utils.plot_model( my_model, show_shapes=True, show_layer_names=False )"
      ],
      "execution_count": 0,
      "outputs": [
        {
          "output_type": "execute_result",
          "data": {
            "image/png": "[encoded data removed]",
            "text/plain": [
              "<IPython.core.display.Image object>"
            ]
          },
          "metadata": {
            "tags": []
          },
          "execution_count": 23
        }
      ]
    },
    {
      "cell_type": "code",
      "metadata": {
        "id": "SdzrDiaMp_cR",
        "colab_type": "code",
        "outputId": "66f44b67-fe67-4730-9493-0f85edbad3c5",
        "colab": {
          "base_uri": "https://localhost:8080/",
          "height": 34
        }
      },
      "source": [
        "my_model.compile(\n",
        "    loss = 'mse',\n",
        "    optimizer = 'adam'\n",
        ")\n",
        "my_model.fit(pcp_X, pcp_Y ,epochs=1000,verbose=False) # vaerbose하면 결과를 간단히 보여줌"
      ],
      "execution_count": 0,
      "outputs": [
        {
          "output_type": "execute_result",
          "data": {
            "text/plain": [
              "<tensorflow.python.keras.callbacks.History at 0x7f99b3827f98>"
            ]
          },
          "metadata": {
            "tags": []
          },
          "execution_count": 24
        }
      ]
    },
    {
      "cell_type": "code",
      "metadata": {
        "id": "96ue3QT7p_cV",
        "colab_type": "code",
        "outputId": "e1039891-d4e3-4f38-e337-c82e3dbca622",
        "colab": {
          "base_uri": "https://localhost:8080/",
          "height": 175
        }
      },
      "source": [
        "my_model.get_weights()"
      ],
      "execution_count": 0,
      "outputs": [
        {
          "output_type": "execute_result",
          "data": {
            "text/plain": [
              "[array([[ 0.2390846 ,  0.49666727, -0.07849006],\n",
              "        [ 0.05169167,  0.27153474, -0.2192551 ],\n",
              "        [ 0.60577846,  0.7782774 ,  0.5341023 ],\n",
              "        [ 0.316755  , -0.24915865,  1.1470134 ]], dtype=float32),\n",
              " array([ 0.43826663, -0.37926897, -0.21029848], dtype=float32),\n",
              " array([[ 0.72378176],\n",
              "        [-0.38016823],\n",
              "        [-0.27654055]], dtype=float32),\n",
              " array([0.44016832], dtype=float32)]"
            ]
          },
          "metadata": {
            "tags": []
          },
          "execution_count": 25
        }
      ]
    },
    {
      "cell_type": "markdown",
      "metadata": {
        "id": "ntISPGv7SDpD",
        "colab_type": "text"
      },
      "source": [
        "## 모델 test"
      ]
    },
    {
      "cell_type": "code",
      "metadata": {
        "id": "Ak_SMvs_Tkdc",
        "colab_type": "code",
        "colab": {}
      },
      "source": [
        "# test data set 생성\n",
        "test_df = pd.DataFrame(columns=['c', 'p', 's', 'K', 'r'])\n",
        "i=0\n",
        "r=0.75\n",
        "while i != 200 :\n",
        "  c = randint(20,200)\n",
        "  p = randint(20,200)\n",
        "  K = randint(20,200)\n",
        "  if c > p :\n",
        "    test_df.loc[i]=[c, p, put_call_parity_with_error(c,p,K,r,error=0.1), K, r]\n",
        "    i=i+1"
      ],
      "execution_count": 0,
      "outputs": []
    },
    {
      "cell_type": "code",
      "metadata": {
        "id": "nnCdY6jiof_i",
        "colab_type": "code",
        "colab": {}
      },
      "source": [
        "test_X = np.array(test_df.loc[:,['c','p','s','K']])\n",
        "test_Y = np.array(test_df.loc[:,'r'])"
      ],
      "execution_count": 0,
      "outputs": []
    },
    {
      "cell_type": "code",
      "metadata": {
        "id": "cN3dMlLgxLgX",
        "colab_type": "code",
        "colab": {}
      },
      "source": [
        "result = my_model.predict(test_X)"
      ],
      "execution_count": 0,
      "outputs": []
    },
    {
      "cell_type": "markdown",
      "metadata": {
        "id": "4Usu086Mq7XX",
        "colab_type": "text"
      },
      "source": [
        "## 시각화"
      ]
    },
    {
      "cell_type": "code",
      "metadata": {
        "id": "TRi9l-YDpWVl",
        "colab_type": "code",
        "outputId": "1ef491a8-41ec-454b-c2a7-aaa965746868",
        "colab": {
          "base_uri": "https://localhost:8080/",
          "height": 265
        }
      },
      "source": [
        "plt.figure()\n",
        "plt.hist(result,bins=30)\n",
        "plt.show()"
      ],
      "execution_count": 0,
      "outputs": [
        {
          "output_type": "display_data",
          "data": {
            "image/png": "[encoded data removed]",
            "text/plain": [
              "<Figure size 432x288 with 1 Axes>"
            ]
          },
          "metadata": {
            "tags": [],
            "needs_background": "light"
          }
        }
      ]
    },
    {
      "cell_type": "markdown",
      "metadata": {
        "id": "Tix2sBZfvxrx",
        "colab_type": "text"
      },
      "source": [
        "# 더 복잡한 모형이 있다면..."
      ]
    },
    {
      "cell_type": "code",
      "metadata": {
        "id": "ypTCp_6Gv1wg",
        "colab_type": "code",
        "outputId": "bc4c34b4-c927-4e0d-e178-45e75e75c93f",
        "colab": {
          "base_uri": "https://localhost:8080/",
          "height": 34
        }
      },
      "source": [
        "my_model2 = tf.keras.Sequential([\n",
        "    tf.keras.layers.Dense(9, input_shape=[4],activation='relu'),\n",
        "    tf.keras.layers.Dense(3, activation='relu'),\n",
        "    tf.keras.layers.Dense(1, activation='relu')\n",
        "]) \n",
        "my_model2.compile(\n",
        "    loss = 'mse',\n",
        "    optimizer = 'adam'\n",
        ")\n",
        "my_model2.fit(pcp_X, pcp_Y ,epochs=2000,verbose=False) # vaerbose하면 결과를 간단히 보여줌"
      ],
      "execution_count": 0,
      "outputs": [
        {
          "output_type": "execute_result",
          "data": {
            "text/plain": [
              "<tensorflow.python.keras.callbacks.History at 0x7f99b2317e48>"
            ]
          },
          "metadata": {
            "tags": []
          },
          "execution_count": 34
        }
      ]
    },
    {
      "cell_type": "code",
      "metadata": {
        "id": "ZoxisFbqwDL_",
        "colab_type": "code",
        "outputId": "137ce2f8-fc2f-478d-b4dc-586a25d87271",
        "colab": {
          "base_uri": "https://localhost:8080/",
          "height": 422
        }
      },
      "source": [
        "tf.keras.utils.plot_model( my_model2, show_shapes=True, show_layer_names=False )"
      ],
      "execution_count": 0,
      "outputs": [
        {
          "output_type": "execute_result",
          "data": {
            "image/png": "[encoded data removed]",
            "text/plain": [
              "<IPython.core.display.Image object>"
            ]
          },
          "metadata": {
            "tags": []
          },
          "execution_count": 35
        }
      ]
    },
    {
      "cell_type": "code",
      "metadata": {
        "id": "wZgKP-nowLZo",
        "colab_type": "code",
        "outputId": "d9275c72-f999-4d75-85ba-bb717efa5922",
        "colab": {
          "base_uri": "https://localhost:8080/",
          "height": 265
        }
      },
      "source": [
        "result2 = my_model.predict(test_X)\n",
        "\n",
        "plt.figure()\n",
        "plt.hist(result2,bins=60, range=[0.5, 1])\n",
        "plt.show()"
      ],
      "execution_count": 0,
      "outputs": [
        {
          "output_type": "display_data",
          "data": {
            "image/png": "[encoded data removed]",
            "text/plain": [
              "<Figure size 432x288 with 1 Axes>"
            ]
          },
          "metadata": {
            "tags": [],
            "needs_background": "light"
          }
        }
      ]
    }
  ]
}