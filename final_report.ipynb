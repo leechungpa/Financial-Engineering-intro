{
  "nbformat": 4,
  "nbformat_minor": 0,
  "metadata": {
    "colab": {
      "name": "금융공학 final report - 이청파",
      "provenance": [],
      "collapsed_sections": [],
      "include_colab_link": true
    },
    "kernelspec": {
      "display_name": "Python 3",
      "language": "python",
      "name": "python3"
    },
    "language_info": {
      "codemirror_mode": {
        "name": "ipython",
        "version": 3
      },
      "file_extension": ".py",
      "mimetype": "text/x-python",
      "name": "python",
      "nbconvert_exporter": "python",
      "pygments_lexer": "ipython3",
      "version": "3.7.7"
    }
  },
  "cells": [
    {
      "cell_type": "markdown",
      "metadata": {
        "id": "view-in-github",
        "colab_type": "text"
      },
      "source": [
        "<a href=\"https://colab.research.google.com/github/leechungpa/FinancialEngineering-intro/blob/master/final_report.ipynb\" target=\"_parent\"><img src=\"https://colab.research.google.com/assets/colab-badge.svg\" alt=\"Open In Colab\"/></a>"
      ]
    },
    {
      "cell_type": "markdown",
      "metadata": {
        "colab_type": "text",
        "id": "7m2rApV4XBIo"
      },
      "source": [
        "# Neural Network 모형을 활용하여, Put-Call Parity 에 따른 이자율 예측\n",
        "\n",
        "![](https://raw.githubusercontent.com/leechungpa/FinancialEngineering-intro/master/docs/Put-call%20Parity.png)\n",
        "\n",
        "Put-call parity 공식에 따르면 $c-p=S_{0}-K/r$ 이 성립한다. 즉 현재시점에서 $c$와 $p$와 $S_{0}$와 $K$를 알 수 있기에 차익거래가 존재하지 않는다면 사람들이 생각하는 이자율을 예측할 수 있다. 그래서 우리는 이 공식을 이용해 데이터를 만들어 보고, 해당데이터를 이용해 이자율을 예측하는 모형을 만들어 보고자 한다.\n",
        "\n",
        "데이터를 만들 때 2가지의 방식으로 만들고자 한다. 먼저 정확한 공식에 따라 데이터를 만든 경우이다. 그리고 두번째는 임의의 오차를 준 경우이다. 우리는 공식에 따라 $S_{0}$를 계산해 데이터를 만들 것인데, 오차를 임의의 0.8~1.2 값을 배하여 구하였다.\n",
        "\n",
        "또한 사람들이 생각하는 이자율은 다 다를 수 있으나, 특정한 값 근처에 몰릴 것이라고 판단해, 특정값(현 기준금리인 0.75)에 근접한 분포를 이용해 put-call parity 공식을 활용해 10개의 데이터 test set을 만들고, 만든 모형이 0.75에 근접한 값을 보이는지 확인해 보고자 한다."
      ]
    },
    {
      "cell_type": "code",
      "metadata": {
        "colab_type": "code",
        "id": "jCIlfw6fkx45",
        "colab": {}
      },
      "source": [
        "from random import *\n",
        "import numpy as np\n",
        "import pandas as pd\n",
        "import tensorflow as tf"
      ],
      "execution_count": 0,
      "outputs": []
    },
    {
      "cell_type": "markdown",
      "metadata": {
        "colab_type": "text",
        "id": "k1h37BVHXCRB"
      },
      "source": [
        "## 데이터 생성"
      ]
    },
    {
      "cell_type": "code",
      "metadata": {
        "colab_type": "code",
        "id": "l52piAwBW_nf",
        "colab": {}
      },
      "source": [
        "# put-call parity 공식\n",
        "def put_call_parity(c,p,K,r):\n",
        "  value = c - p + K/r\n",
        "  return value\n",
        "\n",
        "# put-call parity 공식 및 오차 반영\n",
        "def put_call_parity_with_error(c,p,K,r,error = 0):\n",
        "  value = put_call_parity(c,p,K,r)*uniform(1-error, 1+error)\n",
        "  return value"
      ],
      "execution_count": 0,
      "outputs": []
    },
    {
      "cell_type": "code",
      "metadata": {
        "id": "c0VH5J1AwcB6",
        "colab_type": "code",
        "colab": {}
      },
      "source": [
        "# Data Frame 생성\n",
        "def make_df(n=1000, error=0) :\n",
        "  # n : 만들 데이터 수 \n",
        "  temp_df = pd.DataFrame(columns=['c', 'p', 's', 'K', 'r'])\n",
        "  i=0\n",
        "  while i != n :\n",
        "    c = randint(20,200)\n",
        "    p = randint(20,200)\n",
        "    K = randint(20,200)\n",
        "    r = random()+0.5\n",
        "    if c > p :\n",
        "      temp_df.loc[i]=[c, p, put_call_parity_with_error(c,p,K,r,error=error), K, r]\n",
        "      i=i+1\n",
        "  return temp_df"
      ],
      "execution_count": 0,
      "outputs": []
    },
    {
      "cell_type": "code",
      "metadata": {
        "id": "S_4iHZubxb21",
        "colab_type": "code",
        "colab": {}
      },
      "source": [
        "pcp_df = make_df()"
      ],
      "execution_count": 0,
      "outputs": []
    },
    {
      "cell_type": "code",
      "metadata": {
        "id": "9DkU_0dPp_cJ",
        "colab_type": "code",
        "colab": {
          "base_uri": "https://localhost:8080/",
          "height": 195
        },
        "outputId": "acf71ed1-a062-40e2-b64c-a458fb033ae6"
      },
      "source": [
        "pcp_df.tail()"
      ],
      "execution_count": 64,
      "outputs": [
        {
          "output_type": "execute_result",
          "data": {
            "text/html": [
              "<div>\n",
              "<style scoped>\n",
              "    .dataframe tbody tr th:only-of-type {\n",
              "        vertical-align: middle;\n",
              "    }\n",
              "\n",
              "    .dataframe tbody tr th {\n",
              "        vertical-align: top;\n",
              "    }\n",
              "\n",
              "    .dataframe thead th {\n",
              "        text-align: right;\n",
              "    }\n",
              "</style>\n",
              "<table border=\"1\" class=\"dataframe\">\n",
              "  <thead>\n",
              "    <tr style=\"text-align: right;\">\n",
              "      <th></th>\n",
              "      <th>c</th>\n",
              "      <th>p</th>\n",
              "      <th>s</th>\n",
              "      <th>K</th>\n",
              "      <th>r</th>\n",
              "    </tr>\n",
              "  </thead>\n",
              "  <tbody>\n",
              "    <tr>\n",
              "      <th>995</th>\n",
              "      <td>173.0</td>\n",
              "      <td>140.0</td>\n",
              "      <td>112.876383</td>\n",
              "      <td>87.0</td>\n",
              "      <td>1.089183</td>\n",
              "    </tr>\n",
              "    <tr>\n",
              "      <th>996</th>\n",
              "      <td>98.0</td>\n",
              "      <td>24.0</td>\n",
              "      <td>191.949497</td>\n",
              "      <td>67.0</td>\n",
              "      <td>0.568040</td>\n",
              "    </tr>\n",
              "    <tr>\n",
              "      <th>997</th>\n",
              "      <td>152.0</td>\n",
              "      <td>74.0</td>\n",
              "      <td>238.325988</td>\n",
              "      <td>194.0</td>\n",
              "      <td>1.210035</td>\n",
              "    </tr>\n",
              "    <tr>\n",
              "      <th>998</th>\n",
              "      <td>93.0</td>\n",
              "      <td>66.0</td>\n",
              "      <td>175.575131</td>\n",
              "      <td>181.0</td>\n",
              "      <td>1.218239</td>\n",
              "    </tr>\n",
              "    <tr>\n",
              "      <th>999</th>\n",
              "      <td>177.0</td>\n",
              "      <td>86.0</td>\n",
              "      <td>183.420748</td>\n",
              "      <td>125.0</td>\n",
              "      <td>1.352510</td>\n",
              "    </tr>\n",
              "  </tbody>\n",
              "</table>\n",
              "</div>"
            ],
            "text/plain": [
              "         c      p           s      K         r\n",
              "995  173.0  140.0  112.876383   87.0  1.089183\n",
              "996   98.0   24.0  191.949497   67.0  0.568040\n",
              "997  152.0   74.0  238.325988  194.0  1.210035\n",
              "998   93.0   66.0  175.575131  181.0  1.218239\n",
              "999  177.0   86.0  183.420748  125.0  1.352510"
            ]
          },
          "metadata": {
            "tags": []
          },
          "execution_count": 64
        }
      ]
    },
    {
      "cell_type": "code",
      "metadata": {
        "id": "43kFGgxKp_cM",
        "colab_type": "code",
        "colab": {}
      },
      "source": [
        "pcp_X = np.array(pcp_df.loc[:,['c','p','s','K']])\n",
        "pcp_Y = np.array(pcp_df.loc[:,'r'])"
      ],
      "execution_count": 0,
      "outputs": []
    },
    {
      "cell_type": "markdown",
      "metadata": {
        "colab_type": "text",
        "id": "dMlQCsf7XCNp"
      },
      "source": [
        "## 모델생성"
      ]
    },
    {
      "cell_type": "code",
      "metadata": {
        "colab_type": "code",
        "id": "kTZBkJnNW_lo",
        "colab": {
          "base_uri": "https://localhost:8080/",
          "height": 228
        },
        "outputId": "c957b1c5-0903-4f59-d7b2-6272facc5dd5"
      },
      "source": [
        "my_model = tf.keras.Sequential([\n",
        "    tf.keras.layers.Dense(3, input_shape=[4],activation='relu'),\n",
        "    tf.keras.layers.Dense(1)  #Dense 레이어의 경우 2번째 레이어 부터는 input_shape 필요 없음\n",
        "]) \n",
        "my_model.summary()"
      ],
      "execution_count": 66,
      "outputs": [
        {
          "output_type": "stream",
          "text": [
            "Model: \"sequential_2\"\n",
            "_________________________________________________________________\n",
            "Layer (type)                 Output Shape              Param #   \n",
            "=================================================================\n",
            "dense_4 (Dense)              (None, 3)                 15        \n",
            "_________________________________________________________________\n",
            "dense_5 (Dense)              (None, 1)                 4         \n",
            "=================================================================\n",
            "Total params: 19\n",
            "Trainable params: 19\n",
            "Non-trainable params: 0\n",
            "_________________________________________________________________\n"
          ],
          "name": "stdout"
        }
      ]
    },
    {
      "cell_type": "code",
      "metadata": {
        "id": "SdzrDiaMp_cR",
        "colab_type": "code",
        "colab": {
          "base_uri": "https://localhost:8080/",
          "height": 34
        },
        "outputId": "46a8d71d-282f-4520-bfd9-c1a0381e6892"
      },
      "source": [
        "my_model.compile(\n",
        "    loss = 'mse',\n",
        "    optimizer = 'adam'\n",
        ")\n",
        "my_model.fit(pcp_X, pcp_Y ,epochs=1000,verbose=False) # vaerbose하면 결과를 간단히 보여줌"
      ],
      "execution_count": 30,
      "outputs": [
        {
          "output_type": "execute_result",
          "data": {
            "text/plain": [
              "<tensorflow.python.keras.callbacks.History at 0x7f4d3069fa58>"
            ]
          },
          "metadata": {
            "tags": []
          },
          "execution_count": 30
        }
      ]
    },
    {
      "cell_type": "code",
      "metadata": {
        "id": "96ue3QT7p_cV",
        "colab_type": "code",
        "colab": {
          "base_uri": "https://localhost:8080/",
          "height": 175
        },
        "outputId": "31af62f6-6968-40b3-bb83-55365f9479a2"
      },
      "source": [
        "my_model.get_weights()\n"
      ],
      "execution_count": 31,
      "outputs": [
        {
          "output_type": "execute_result",
          "data": {
            "text/plain": [
              "[array([[ 0.48843756,  0.42637506, -0.31967646],\n",
              "        [ 0.49033988,  0.41412866,  0.41198495],\n",
              "        [ 0.41803545,  0.35257247,  0.38787544],\n",
              "        [ 0.10155949,  0.0943744 , -0.83459336]], dtype=float32),\n",
              " array([-0.3861041,  0.4298842,  0.4583927], dtype=float32),\n",
              " array([[-0.70574623],\n",
              "        [ 0.8220338 ],\n",
              "        [-0.03473013]], dtype=float32),\n",
              " array([0.41591442], dtype=float32)]"
            ]
          },
          "metadata": {
            "tags": []
          },
          "execution_count": 31
        }
      ]
    },
    {
      "cell_type": "code",
      "metadata": {
        "id": "0rDt-Ta7p_cT",
        "colab_type": "code",
        "colab": {
          "base_uri": "https://localhost:8080/",
          "height": 34
        },
        "outputId": "a5adfb1d-4d3c-4a9f-d18f-fb2a74cb4f28"
      },
      "source": [
        "my_model.predict([[124.0,\t101.0,\t129.903090,\t104.0]])\n"
      ],
      "execution_count": 22,
      "outputs": [
        {
          "output_type": "execute_result",
          "data": {
            "text/plain": [
              "array([[0.95839506]], dtype=float32)"
            ]
          },
          "metadata": {
            "tags": []
          },
          "execution_count": 22
        }
      ]
    }
  ]
}