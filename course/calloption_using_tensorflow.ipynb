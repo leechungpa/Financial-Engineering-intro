{
 "cells": [
  {
   "cell_type": "markdown",
   "metadata": {
    "colab_type": "text",
    "id": "view-in-github"
   },
   "source": [
    "<a href=\"https://colab.research.google.com/github/leechungpa/Financial_Engineering_intro/blob/master/course/%EA%B8%88%EC%9C%B5%EA%B3%B5%ED%95%99.ipynb\" target=\"_parent\"><img src=\"https://colab.research.google.com/assets/colab-badge.svg\" alt=\"Open In Colab\"/></a>"
   ]
  },
  {
   "cell_type": "markdown",
   "metadata": {
    "colab_type": "text",
    "id": "3y0G-Qo8H52F"
   },
   "source": [
    "# 딥러닝 (5/23)\n"
   ]
  },
  {
   "cell_type": "code",
   "execution_count": 0,
   "metadata": {
    "colab": {
     "base_uri": "https://localhost:8080/",
     "height": 35
    },
    "colab_type": "code",
    "id": "CvQQ8sr1NOUG",
    "outputId": "02cace4a-2353-4332-93e1-bc1132422658"
   },
   "outputs": [
    {
     "data": {
      "text/plain": [
       "'2.2.0'"
      ]
     },
     "execution_count": 17,
     "metadata": {
      "tags": []
     },
     "output_type": "execute_result"
    }
   ],
   "source": [
    "import tensorflow as tf\n",
    "tf.__version__"
   ]
  },
  {
   "cell_type": "code",
   "execution_count": 0,
   "metadata": {
    "colab": {
     "base_uri": "https://localhost:8080/",
     "height": 233
    },
    "colab_type": "code",
    "id": "ZzMzcvSgNORL",
    "outputId": "c5b62d66-acf3-4f71-ee9a-346b685d5578"
   },
   "outputs": [
    {
     "name": "stdout",
     "output_type": "stream",
     "text": [
      "Model: \"sequential_3\"\n",
      "_________________________________________________________________\n",
      "Layer (type)                 Output Shape              Param #   \n",
      "=================================================================\n",
      "dense_4 (Dense)              (None, 3)                 9         \n",
      "_________________________________________________________________\n",
      "dense_5 (Dense)              (None, 1)                 4         \n",
      "=================================================================\n",
      "Total params: 13\n",
      "Trainable params: 13\n",
      "Non-trainable params: 0\n",
      "_________________________________________________________________\n"
     ]
    }
   ],
   "source": [
    "my_model = tf.keras.Sequential([\n",
    "    tf.keras.layers.Dense(3, input_shape=[2],activation='relu'),\n",
    "    tf.keras.layers.Dense(1)  #Dense 레이어의 경우 2번째 레이어 부터는 input_shape 필요 없음\n",
    "]) \n",
    "my_model.summary()"
   ]
  },
  {
   "cell_type": "code",
   "execution_count": 0,
   "metadata": {
    "colab": {
     "base_uri": "https://localhost:8080/",
     "height": 35
    },
    "colab_type": "code",
    "id": "OP-U0z9aNOOV",
    "outputId": "20abe46e-0033-4e86-e082-2c4c4d15a039"
   },
   "outputs": [
    {
     "data": {
      "text/plain": [
       "<tensorflow.python.keras.callbacks.History at 0x7ff9ff3b0e80>"
      ]
     },
     "execution_count": 22,
     "metadata": {
      "tags": []
     },
     "output_type": "execute_result"
    }
   ],
   "source": [
    "my_model.compile(\n",
    "    loss = 'mse',\n",
    "    optimizer = 'adam'\n",
    ")\n",
    "my_model.fit([[0,2]], [1],epochs=100,verbose=False) # vaerbose하면 결과를 간단히 보여줌"
   ]
  },
  {
   "cell_type": "code",
   "execution_count": 0,
   "metadata": {
    "colab": {
     "base_uri": "https://localhost:8080/",
     "height": 35
    },
    "colab_type": "code",
    "id": "8YHhVZ0MNOLk",
    "outputId": "3b9137b6-a126-4f3e-aaf5-0047539e6ca3"
   },
   "outputs": [
    {
     "data": {
      "text/plain": [
       "array([[-0.8344178]], dtype=float32)"
      ]
     },
     "execution_count": 26,
     "metadata": {
      "tags": []
     },
     "output_type": "execute_result"
    }
   ],
   "source": [
    "my_model.predict([[0.5,3]])"
   ]
  },
  {
   "cell_type": "code",
   "execution_count": 0,
   "metadata": {
    "colab": {
     "base_uri": "https://localhost:8080/",
     "height": 143
    },
    "colab_type": "code",
    "id": "166MOTomNOIq",
    "outputId": "ca7d920e-190a-4508-9ef6-cca0bd2a647b"
   },
   "outputs": [
    {
     "data": {
      "text/plain": [
       "[array([[ 0.04514015, -0.9103372 , -0.90085006],\n",
       "        [ 0.9957013 , -0.72961307, -0.12324351]], dtype=float32),\n",
       " array([-0.0917602,  0.       ,  0.       ], dtype=float32),\n",
       " array([[-0.3188962 ],\n",
       "        [ 1.0906461 ],\n",
       "        [-0.29893494]], dtype=float32),\n",
       " array([0.09609382], dtype=float32)]"
      ]
     },
     "execution_count": 27,
     "metadata": {
      "tags": []
     },
     "output_type": "execute_result"
    }
   ],
   "source": [
    "my_model.get_weights()"
   ]
  },
  {
   "cell_type": "markdown",
   "metadata": {
    "colab_type": "text",
    "id": "_ds-JRyiVQfS"
   },
   "source": [
    "# 콜옵션"
   ]
  },
  {
   "cell_type": "code",
   "execution_count": 0,
   "metadata": {
    "colab": {},
    "colab_type": "code",
    "id": "2usBbWAcNOFZ"
   },
   "outputs": [],
   "source": [
    "def call_option(S,u,d,r,K):\n",
    "  prob = (r-d)/(u-d)\n",
    "  value =1/r*(max(u*S-K,0)*prob +max(d*S-K,0)*(1-prob))\n",
    "  return value"
   ]
  },
  {
   "cell_type": "code",
   "execution_count": null,
   "metadata": {},
   "outputs": [],
   "source": [
    "for S in range(80,120,10) :\n",
    "  for K in range(80,120,5) :\n",
    "    print(S, K, call_option(S,1.1,0.9,1.05,K))\n",
    "# 이런식으로 u d r 적어본다.\n",
    "# 일부로 error를 넣을 수도 있다."
   ]
  },
  {
   "cell_type": "code",
   "execution_count": 0,
   "metadata": {
    "colab": {
     "base_uri": "https://localhost:8080/",
     "height": 179
    },
    "colab_type": "code",
    "id": "AO_Ft8U7VqBs",
    "outputId": "3f963dfe-83ba-4d31-b609-98f93b99eff1"
   },
   "outputs": [
    {
     "data": {
      "text/plain": [
       "[[80, 0.0],\n",
       " [85, 0.0],\n",
       " [90, 0.0],\n",
       " [95, 3.2142857142857237],\n",
       " [100, 7.142857142857152],\n",
       " [105, 11.07142857142858],\n",
       " [110, 15.000000000000007],\n",
       " [115, 19.761904761904766],\n",
       " [120, 24.761904761904756]]"
      ]
     },
     "execution_count": 31,
     "metadata": {
      "tags": []
     },
     "output_type": "execute_result"
    }
   ],
   "source": [
    "data =[]\n",
    "\n",
    "for S in range(80,121,5) :\n",
    "  data.append([S,call_option(S,1.1,0.9,1.05,100)])\n",
    "\n",
    "data"
   ]
  },
  {
   "cell_type": "code",
   "execution_count": 0,
   "metadata": {
    "colab": {
     "base_uri": "https://localhost:8080/",
     "height": 179
    },
    "colab_type": "code",
    "id": "8yUCmmtjVqSB",
    "outputId": "20ddebdf-b803-4ad0-8f2c-bafd24b4431a"
   },
   "outputs": [
    {
     "data": {
      "text/plain": [
       "array([[ 80.        ,   0.        ],\n",
       "       [ 85.        ,   0.        ],\n",
       "       [ 90.        ,   0.        ],\n",
       "       [ 95.        ,   3.21428571],\n",
       "       [100.        ,   7.14285714],\n",
       "       [105.        ,  11.07142857],\n",
       "       [110.        ,  15.        ],\n",
       "       [115.        ,  19.76190476],\n",
       "       [120.        ,  24.76190476]])"
      ]
     },
     "execution_count": 33,
     "metadata": {
      "tags": []
     },
     "output_type": "execute_result"
    }
   ],
   "source": [
    "import numpy as np\n",
    "dt = np.array(data)\n",
    "dt"
   ]
  },
  {
   "cell_type": "code",
   "execution_count": 0,
   "metadata": {
    "colab": {},
    "colab_type": "code",
    "id": "1LxxMqJ0VqhK"
   },
   "outputs": [],
   "source": [
    "x = dt[:,0] # data 는 슬라이싱 불가능\n",
    "y = dt[:,1]"
   ]
  },
  {
   "cell_type": "code",
   "execution_count": 0,
   "metadata": {
    "colab": {},
    "colab_type": "code",
    "id": "ncoX5JWTVqeo"
   },
   "outputs": [],
   "source": [
    "co_model = tf.keras.Sequential([\n",
    "    tf.keras.layers.Dense(128, input_shape=[1],activation='relu'),\n",
    "    tf.keras.layers.Dense(64,activation='relu'),\n",
    "    tf.keras.layers.Dense(1)\n",
    "])\n",
    "co_model.compile(loss='mse',optimizer='adam')"
   ]
  },
  {
   "cell_type": "code",
   "execution_count": 0,
   "metadata": {
    "colab": {
     "base_uri": "https://localhost:8080/",
     "height": 35
    },
    "colab_type": "code",
    "id": "xXMziTIDVqcp",
    "outputId": "0d72fe97-d856-4326-8daa-5de3ddf75aee"
   },
   "outputs": [
    {
     "data": {
      "text/plain": [
       "<tensorflow.python.keras.callbacks.History at 0x7ff9fc22dcc0>"
      ]
     },
     "execution_count": 42,
     "metadata": {
      "tags": []
     },
     "output_type": "execute_result"
    }
   ],
   "source": [
    "co_model.fit(x,y,epochs=10000,verbose=False)"
   ]
  },
  {
   "cell_type": "code",
   "execution_count": 0,
   "metadata": {
    "colab": {
     "base_uri": "https://localhost:8080/",
     "height": 35
    },
    "colab_type": "code",
    "id": "OWbYswCvVqaS",
    "outputId": "851b71d9-b6d1-404e-d7b1-824828560c0a"
   },
   "outputs": [
    {
     "data": {
      "text/plain": [
       "array([[6.2942004]], dtype=float32)"
      ]
     },
     "execution_count": 44,
     "metadata": {
      "tags": []
     },
     "output_type": "execute_result"
    }
   ],
   "source": [
    "co_model.predict([100])"
   ]
  }
 ],
 "metadata": {
  "colab": {
   "authorship_tag": "ABX9TyMVEyNG6p8dVCghtmz1daK6",
   "collapsed_sections": [],
   "include_colab_link": true,
   "name": "금융공학.ipynb",
   "provenance": []
  },
  "kernelspec": {
   "display_name": "Python 3",
   "language": "python",
   "name": "python3"
  },
  "language_info": {
   "codemirror_mode": {
    "name": "ipython",
    "version": 3
   },
   "file_extension": ".py",
   "mimetype": "text/x-python",
   "name": "python",
   "nbconvert_exporter": "python",
   "pygments_lexer": "ipython3",
   "version": "3.7.7"
  }
 },
 "nbformat": 4,
 "nbformat_minor": 1
}
