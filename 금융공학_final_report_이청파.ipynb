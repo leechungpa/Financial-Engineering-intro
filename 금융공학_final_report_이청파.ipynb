{
 "cells": [
  {
   "cell_type": "markdown",
   "metadata": {
    "colab_type": "text",
    "id": "view-in-github"
   },
   "source": [
    "<a href=\"https://colab.research.google.com/github/leechungpa/Financial_Engineering_intro/blob/master/%EA%B8%88%EC%9C%B5%EA%B3%B5%ED%95%99_final_report_%EC%9D%B4%EC%B2%AD%ED%8C%8C.ipynb\" target=\"_parent\"><img src=\"https://colab.research.google.com/assets/colab-badge.svg\" alt=\"Open In Colab\"/></a>"
   ]
  },
  {
   "cell_type": "markdown",
   "metadata": {
    "colab_type": "text",
    "id": "U3xxz3PAXCJ_"
   },
   "source": []
  },
  {
   "cell_type": "markdown",
   "metadata": {
    "colab_type": "text",
    "id": "7m2rApV4XBIo"
   },
   "source": [
    "# 주제 : Neural Network 모형을 활용하여, Put-Call Parity 에 따른 이자율 예측\n",
    "\n",
    "Put-call parity 공식에 따르면 $c-p=S_{0}-K/r$ 이 성립한다. 즉 현재시점에서 c와 p와 S0와 K를 알 수 있기에 차익거래가 존재하지 않는다면 사람들이 생각하는 이자율을 예측할 수 있다. 그래서 우리는 이 공식을 이용해 데이터를 만들어 보고, 해당데이터를 이용해 이자율을 예측하는 모형을 만들어 보고자 한다.\n",
    "\n",
    "데이터를 만들 때 2가지의 방식으로 만들고자 한다. 먼저 정확한 공식에 따라 데이터를 만든 경우이다. 그리고 두번째는 임의의 오차를 준 경우이다. 우리는 공식에 따라 $S_{0}$를 계산해 데이터를 만들 것인데, 오차를 임의의 0.8~1.2 값을 배하여 구하였다.\n",
    "\n",
    "또한 사람들이 생각하는 이자율은 다 다를 수 있으나, 특정한 값 근처에 몰릴 것이라고 판단해, 특정값(현 기준금리인 0.75)에 근접한 분포를 이용해 put-call parity 공식을 활용해 10개의 데이터 test set을 만들고, 만든 모형이 0.75에 근접한 값을 보이는지 확인해 보고자 한다."
   ]
  },
  {
   "cell_type": "code",
   "execution_count": 0,
   "metadata": {
    "colab": {},
    "colab_type": "code",
    "id": "jCIlfw6fkx45"
   },
   "outputs": [],
   "source": [
    "from random import *\n",
    "import pandas as pd\n",
    "import tensorflow as tf"
   ]
  },
  {
   "cell_type": "markdown",
   "metadata": {
    "colab_type": "text",
    "id": "k1h37BVHXCRB"
   },
   "source": [
    "## 데이터 생성"
   ]
  },
  {
   "cell_type": "code",
   "execution_count": 0,
   "metadata": {
    "colab": {},
    "colab_type": "code",
    "id": "l52piAwBW_nf"
   },
   "outputs": [],
   "source": [
    "# put-call parity 공식\n",
    "def put_call_parity(c,p,K,r):\n",
    "  value = c - p + K/r\n",
    "  return value\n",
    "\n",
    "# put-call parity 공식 및 오차 반영\n",
    "def put_call_parity_with_error(c,p,K,r,error = 0.2):\n",
    "  value = put_call_parity(c,p,K,r)*uniform(1-error, 1+error)\n",
    "  return value"
   ]
  },
  {
   "cell_type": "code",
   "execution_count": 0,
   "metadata": {
    "colab": {
     "base_uri": "https://localhost:8080/",
     "height": 193
    },
    "colab_type": "code",
    "id": "uv3iFU5lW_rd",
    "outputId": "7d975ff6-8b13-48a3-c31a-c3dba5718b4a"
   },
   "outputs": [
    {
     "name": "stdout",
     "output_type": "stream",
     "text": [
      "145 56 53 1.2482997694869369 131.45775037015628\n",
      "181 111 158 0.9902726363787493 229.55202052010432\n",
      "166 90 116 0.9790122634438502 194.48676909515854\n",
      "80 79 98 0.9445533722931738 104.75273952183024\n",
      "167 95 59 0.7998883765975257 145.7602917184114\n",
      "200 57 136 0.5127115751951579 408.2563479734842\n",
      "188 62 29 1.4271911241091604 146.319633096164\n",
      "87 33 142 0.5165671100474846 328.89167861838297\n",
      "146 140 112 0.9627322573365814 122.33556385640418\n",
      "195 112 114 1.0567289010471748 190.8800815299276\n"
     ]
    }
   ],
   "source": [
    "i=0\n",
    "while i != 10 :\n",
    "  c = randint(20,200)\n",
    "  p = randint(20,200)\n",
    "  K = randint(20,200)\n",
    "  r = random()+0.5\n",
    "  if c > p :\n",
    "    i=i+1\n",
    "    print(c, p, K, r, put_call_parity(c,p,K,r))"
   ]
  },
  {
   "cell_type": "code",
   "execution_count": 0,
   "metadata": {
    "colab": {},
    "colab_type": "code",
    "id": "wCvLu-LfW_ww"
   },
   "outputs": [],
   "source": []
  },
  {
   "cell_type": "markdown",
   "metadata": {
    "colab_type": "text",
    "id": "dMlQCsf7XCNp"
   },
   "source": [
    "## 모델생성"
   ]
  },
  {
   "cell_type": "code",
   "execution_count": 0,
   "metadata": {
    "colab": {},
    "colab_type": "code",
    "id": "kTZBkJnNW_lo"
   },
   "outputs": [],
   "source": [
    "my_model = tf.keras.Sequential([\n",
    "    tf.keras.layers.Dense(3, input_shape=[2],activation='relu'),\n",
    "    tf.keras.layers.Dense(1)  #Dense 레이어의 경우 2번째 레이어 부터는 input_shape 필요 없음\n",
    "]) \n",
    "my_model.summary()\n",
    "\n",
    "my_model.compile(\n",
    "    loss = 'mse',\n",
    "    optimizer = 'adam'\n",
    ")\n",
    "my_model.fit([[0,2]], [1],epochs=100,verbose=False) # vaerbose하면 결과를 간단히 보여줌\n",
    "\n",
    "my_model.predict([[0.5,3]])\n",
    "\n",
    "my_model.get_weights()\n",
    "\n",
    "\n"
   ]
  }
 ],
 "metadata": {
  "colab": {
   "authorship_tag": "ABX9TyOVIrC0SuhS+P2eV93VH5ui",
   "collapsed_sections": [],
   "include_colab_link": true,
   "name": "금융공학 final report - 이청파",
   "provenance": []
  },
  "kernelspec": {
   "display_name": "Python 3",
   "language": "python",
   "name": "python3"
  },
  "language_info": {
   "codemirror_mode": {
    "name": "ipython",
    "version": 3
   },
   "file_extension": ".py",
   "mimetype": "text/x-python",
   "name": "python",
   "nbconvert_exporter": "python",
   "pygments_lexer": "ipython3",
   "version": "3.7.7"
  }
 },
 "nbformat": 4,
 "nbformat_minor": 1
}
